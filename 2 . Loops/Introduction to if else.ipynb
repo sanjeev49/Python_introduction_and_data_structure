{
 "cells": [
  {
   "cell_type": "markdown",
   "metadata": {},
   "source": [
    "#If else"
   ]
  },
  {
   "cell_type": "code",
   "execution_count": 6,
   "metadata": {},
   "outputs": [
    {
     "name": "stdout",
     "output_type": "stream",
     "text": [
      "i am in\n"
     ]
    }
   ],
   "source": [
    "a = True\n",
    "if a:\n",
    "    print(\"i am in\")\n",
    "else:\n",
    "    print(\"i am out\")"
   ]
  },
  {
   "cell_type": "code",
   "execution_count": 8,
   "metadata": {},
   "outputs": [
    {
     "name": "stdout",
     "output_type": "stream",
     "text": [
      "36\n",
      "no. is even\n"
     ]
    }
   ],
   "source": [
    "#1program to check odd and even number\n",
    "n = int(input())\n",
    "\n",
    "if n%2 == 0:\n",
    "    print(\"no. is even\")\n",
    "else:\n",
    "    print(\"number is odd\")"
   ]
  },
  {
   "cell_type": "code",
   "execution_count": 2,
   "metadata": {},
   "outputs": [
    {
     "name": "stdout",
     "output_type": "stream",
     "text": [
      "43\n",
      "Nubmer is odd\n"
     ]
    }
   ],
   "source": [
    "#2nd program to check if even odd\n",
    "\n",
    "n = int(input())\n",
    "r = n%2\n",
    "is_even = r ==0\n",
    "\n",
    "if is_even:\n",
    "    print(\"Number is even\")\n",
    "else:\n",
    "    print(\"Nubmer is odd\")"
   ]
  },
  {
   "cell_type": "markdown",
   "metadata": {},
   "source": [
    "## "
   ]
  }
 ],
 "metadata": {
  "kernelspec": {
   "display_name": "Python 3",
   "language": "python",
   "name": "python3"
  },
  "language_info": {
   "codemirror_mode": {
    "name": "ipython",
    "version": 3
   },
   "file_extension": ".py",
   "mimetype": "text/x-python",
   "name": "python",
   "nbconvert_exporter": "python",
   "pygments_lexer": "ipython3",
   "version": "3.7.3"
  }
 },
 "nbformat": 4,
 "nbformat_minor": 2
}
