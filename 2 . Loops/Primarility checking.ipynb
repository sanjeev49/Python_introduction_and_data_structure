{
 "cells": [
  {
   "cell_type": "markdown",
   "metadata": {},
   "source": [
    "## Primarility checking"
   ]
  },
  {
   "cell_type": "code",
   "execution_count": 1,
   "metadata": {},
   "outputs": [
    {
     "name": "stdout",
     "output_type": "stream",
     "text": [
      "Enter any number5\n",
      "Given no. is prime\n"
     ]
    }
   ],
   "source": [
    "#Program to check if a number is prime\n",
    "n = int(input(\"Enter any number\"))\n",
    "d = 2\n",
    "flag = False\n",
    "while d<n:\n",
    "    if (n%d == 0):\n",
    "        flag = True\n",
    "    d += 1\n",
    "if flag:\n",
    "    print(\"Not prime\")\n",
    "else:\n",
    "    print(\"Given no. is prime\")"
   ]
  },
  {
   "cell_type": "code",
   "execution_count": 1,
   "metadata": {},
   "outputs": [
    {
     "name": "stdout",
     "output_type": "stream",
     "text": [
      "100\n",
      "2\n",
      "3\n",
      "5\n",
      "7\n",
      "11\n",
      "13\n",
      "17\n",
      "19\n",
      "23\n",
      "29\n",
      "31\n",
      "37\n",
      "41\n",
      "43\n",
      "47\n",
      "53\n",
      "59\n",
      "61\n",
      "67\n",
      "71\n",
      "73\n",
      "79\n",
      "83\n",
      "89\n",
      "97\n"
     ]
    }
   ],
   "source": [
    "#Program to print prime number from 1 to n\n",
    "n = int(input())\n",
    "\n",
    "k = 2\n",
    "while k<=n:\n",
    "    d = 2\n",
    "    flag = False\n",
    "    while d<k:\n",
    "        \n",
    "        if (k % d==0):\n",
    "            flag = True\n",
    "        d += 1\n",
    "    if not(flag):\n",
    "        print(k)\n",
    "    k += 1"
   ]
  },
  {
   "cell_type": "code",
   "execution_count": 11,
   "metadata": {},
   "outputs": [
    {
     "name": "stdout",
     "output_type": "stream",
     "text": [
      "10\n",
      "100\n",
      "20\n",
      "10 \t -12\n",
      "30 \t -1\n",
      "50 \t 10\n",
      "70 \t 21\n",
      "90 \t 32\n"
     ]
    }
   ],
   "source": [
    "# Read input as sepcified in the question\n",
    "# Print output as specified in the question\n",
    "\n",
    "## Note : For printing multiple values in one line, put them inside print separated by space.\n",
    "## You can follow this syntax for printing values of two variables val1 and val2 separaetd by space -\n",
    "##      print(val1, \" \", val2)\n",
    "\n",
    "S = int(input())\n",
    "E = int(input())\n",
    "W = int(input())\n",
    "\n",
    "count = S\n",
    "while count<=E:\n",
    "       celcius = (count-32)* 5/9\n",
    "       print(count, \"\\t\", int(celcius))\n",
    "       count = count + W\n",
    "       \n",
    "        \n"
   ]
  },
  {
   "cell_type": "code",
   "execution_count": null,
   "metadata": {},
   "outputs": [],
   "source": []
  }
 ],
 "metadata": {
  "kernelspec": {
   "display_name": "Python 3",
   "language": "python",
   "name": "python3"
  },
  "language_info": {
   "codemirror_mode": {
    "name": "ipython",
    "version": 3
   },
   "file_extension": ".py",
   "mimetype": "text/x-python",
   "name": "python",
   "nbconvert_exporter": "python",
   "pygments_lexer": "ipython3",
   "version": "3.7.3"
  }
 },
 "nbformat": 4,
 "nbformat_minor": 2
}
