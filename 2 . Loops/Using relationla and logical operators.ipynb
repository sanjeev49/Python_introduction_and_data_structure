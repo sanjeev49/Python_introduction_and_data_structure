{
 "cells": [
  {
   "cell_type": "code",
   "execution_count": 2,
   "metadata": {},
   "outputs": [
    {
     "name": "stdout",
     "output_type": "stream",
     "text": [
      "4\n",
      "3\n",
      "c1 and c2!>10\n"
     ]
    }
   ],
   "source": [
    "c1 = int(input())\n",
    "c2 = int(input())\n",
    "\n",
    "a = c1>10\n",
    "b = c2>10\n",
    "\n",
    "z = a and b\n",
    "if z:\n",
    "    print(\"c1 and c2 >10:\")\n",
    "else:\n",
    "    print(\"c1 and c2!>10\")"
   ]
  },
  {
   "cell_type": "code",
   "execution_count": 3,
   "metadata": {},
   "outputs": [
    {
     "name": "stdout",
     "output_type": "stream",
     "text": [
      "34\n",
      "10\n",
      "a,b <10\n"
     ]
    }
   ],
   "source": [
    "#other method\n",
    "a = int(input())\n",
    "b = int(input())\n",
    "\n",
    "if a and b >10:\n",
    "    print(\"a ,b >10\")\n",
    "else:\n",
    "    print(\"a,b <10\")"
   ]
  },
  {
   "cell_type": "code",
   "execution_count": 4,
   "metadata": {},
   "outputs": [
    {
     "name": "stdout",
     "output_type": "stream",
     "text": [
      "4\n",
      "No. it's not 7\n"
     ]
    }
   ],
   "source": [
    "#Program to check if no. is 7\n",
    "a = int(input())\n",
    "\n",
    "if a == 7:\n",
    "    print(\"Yes, it is 7\")\n",
    "else:\n",
    "    print(\"No. it's not 7\")"
   ]
  },
  {
   "cell_type": "code",
   "execution_count": 5,
   "metadata": {},
   "outputs": [
    {
     "name": "stdout",
     "output_type": "stream",
     "text": [
      "4\n",
      "no its not 7\n"
     ]
    }
   ],
   "source": [
    "#Program is everything except 7\n",
    "a = int(input())\n",
    "\n",
    "if a !=7:\n",
    "    print(\"no its not 7\")\n",
    "else:\n",
    "    print(\"its  defenitely 7\")"
   ]
  },
  {
   "cell_type": "code",
   "execution_count": 4,
   "metadata": {},
   "outputs": [
    {
     "name": "stdout",
     "output_type": "stream",
     "text": [
      "1000\n",
      "50000\n",
      "-5\n",
      "50000  is greatest\n"
     ]
    }
   ],
   "source": [
    "#Progrma to check the greatest no. among all\n",
    "\n",
    "p = int(input())\n",
    "q = int(input())\n",
    "r = int(input())\n",
    "\n",
    "if p>=q and p>=r :\n",
    "    print(p,\" is greatest\")\n",
    "elif q>=p and q>=r:\n",
    "    print(q,\" is greatest\")\n",
    "else:\n",
    "    print(r, \" is greatest\")"
   ]
  },
  {
   "cell_type": "code",
   "execution_count": null,
   "metadata": {},
   "outputs": [],
   "source": []
  }
 ],
 "metadata": {
  "kernelspec": {
   "display_name": "Python 3",
   "language": "python",
   "name": "python3"
  },
  "language_info": {
   "codemirror_mode": {
    "name": "ipython",
    "version": 3
   },
   "file_extension": ".py",
   "mimetype": "text/x-python",
   "name": "python",
   "nbconvert_exporter": "python",
   "pygments_lexer": "ipython3",
   "version": "3.7.3"
  }
 },
 "nbformat": 4,
 "nbformat_minor": 2
}
