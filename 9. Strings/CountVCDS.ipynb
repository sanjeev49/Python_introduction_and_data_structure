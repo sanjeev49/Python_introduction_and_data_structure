{
 "cells": [
  {
   "cell_type": "markdown",
   "metadata": {},
   "source": [
    "## Count vowels, consonants and number and special character in the string"
   ]
  },
  {
   "cell_type": "code",
   "execution_count": 2,
   "metadata": {},
   "outputs": [
    {
     "name": "stdout",
     "output_type": "stream",
     "text": [
      "(6, 30, 50, 0)\n"
     ]
    }
   ],
   "source": [
    "def count(str):\n",
    "    v,c,n,s = 0,0,0,0\n",
    "    for char in str:\n",
    "        if ((char >= 'a' and char <= 'z') or (char >= 'A' and char <= 'Z')):\n",
    "            if(char == 'a' or char == 'e' or char =='i' or char =='e' or char== 'o'):\n",
    "                \n",
    "                v += 1\n",
    "            else:\n",
    "                c += 1\n",
    "        if (char >= '1' or char <= '9'):\n",
    "            n += 1\n",
    "        else:\n",
    "            s += 1\n",
    "    return v,c,n,s\n",
    "str = \"alkdfj3245q 9! 34alkdfjasjAsdlgfkweriotlngvq5u345u\"\n",
    "str = count(str)\n",
    "print(str)"
   ]
  },
  {
   "cell_type": "code",
   "execution_count": null,
   "metadata": {},
   "outputs": [],
   "source": []
  }
 ],
 "metadata": {
  "kernelspec": {
   "display_name": "Python 3",
   "language": "python",
   "name": "python3"
  },
  "language_info": {
   "codemirror_mode": {
    "name": "ipython",
    "version": 3
   },
   "file_extension": ".py",
   "mimetype": "text/x-python",
   "name": "python",
   "nbconvert_exporter": "python",
   "pygments_lexer": "ipython3",
   "version": "3.7.3"
  }
 },
 "nbformat": 4,
 "nbformat_minor": 2
}
