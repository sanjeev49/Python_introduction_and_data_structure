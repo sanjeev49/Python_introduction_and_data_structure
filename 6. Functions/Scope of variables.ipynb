{
 "cells": [
  {
   "cell_type": "markdown",
   "metadata": {},
   "source": [
    "## Two kinds of scopes\n",
    "1. Local variable :- Local variable are functions are which are defined inside the function\n",
    "2. Global variable :- Gloabal variable are defined outside the function"
   ]
  },
  {
   "cell_type": "code",
   "execution_count": 4,
   "metadata": {},
   "outputs": [],
   "source": [
    "a1 = 10 # Gloabal variable\n",
    "\n",
    "def lc():\n",
    "    b1 = 12 #Local variable\n",
    "    print(b1)"
   ]
  },
  {
   "cell_type": "code",
   "execution_count": 5,
   "metadata": {},
   "outputs": [
    {
     "data": {
      "text/plain": [
       "10"
      ]
     },
     "execution_count": 5,
     "metadata": {},
     "output_type": "execute_result"
    }
   ],
   "source": [
    "a1"
   ]
  },
  {
   "cell_type": "code",
   "execution_count": 6,
   "metadata": {},
   "outputs": [
    {
     "name": "stdout",
     "output_type": "stream",
     "text": [
      "12\n"
     ]
    }
   ],
   "source": [
    "lc()"
   ]
  },
  {
   "cell_type": "markdown",
   "metadata": {},
   "source": [
    "## You can print a global variable inside the fuction"
   ]
  },
  {
   "cell_type": "code",
   "execution_count": 12,
   "metadata": {},
   "outputs": [
    {
     "name": "stdout",
     "output_type": "stream",
     "text": [
      "14\n",
      "10\n",
      "14\n"
     ]
    }
   ],
   "source": [
    "a1 = 14\n",
    "def ab():\n",
    "    a2 = 10\n",
    "    print(a2)\n",
    "    print(a1)# Global variable is printed inside the function\n",
    "    #print(c3)\n",
    "print(a1)\n",
    "ab()\n",
    "c3 = 20"
   ]
  },
  {
   "cell_type": "markdown",
   "metadata": {},
   "source": [
    "## If global variable is below then it is also printed"
   ]
  },
  {
   "cell_type": "code",
   "execution_count": 10,
   "metadata": {},
   "outputs": [
    {
     "name": "stdout",
     "output_type": "stream",
     "text": [
      "14\n",
      "10\n",
      "14\n"
     ]
    }
   ],
   "source": [
    "def ab():\n",
    "    a2 = 10\n",
    "    print(a2)\n",
    "    print(a1)# Global variable is printed inside the function\n",
    "a1 = 14\n",
    "\n",
    "print(a1)\n",
    "ab()"
   ]
  },
  {
   "cell_type": "markdown",
   "metadata": {},
   "source": [
    "## Conflicts between local and global variables"
   ]
  },
  {
   "cell_type": "code",
   "execution_count": 16,
   "metadata": {},
   "outputs": [],
   "source": [
    "d1 = 14\n",
    "def ac():\n",
    "    d1 = 12\n",
    "    print(d1)\n",
    "    print(id(d1))\n"
   ]
  },
  {
   "cell_type": "code",
   "execution_count": 17,
   "metadata": {},
   "outputs": [
    {
     "name": "stdout",
     "output_type": "stream",
     "text": [
      "14\n",
      "12\n",
      "140723028268192\n",
      "14\n",
      "140723028268256\n"
     ]
    }
   ],
   "source": [
    "print(d1)\n",
    "ac()\n",
    "print(d1)\n",
    "print(id(d1))"
   ]
  },
  {
   "cell_type": "code",
   "execution_count": 18,
   "metadata": {},
   "outputs": [],
   "source": [
    "## To use global varible in function we need to define it in the function\n",
    "d1 = 14\n",
    "def ac():\n",
    "    global d1\n",
    "    d1 = 12\n",
    "    print(d1)\n",
    "    print(id(d1))\n"
   ]
  },
  {
   "cell_type": "code",
   "execution_count": 19,
   "metadata": {},
   "outputs": [
    {
     "name": "stdout",
     "output_type": "stream",
     "text": [
      "14\n",
      "12\n",
      "140723028268192\n",
      "12\n",
      "140723028268192\n"
     ]
    }
   ],
   "source": [
    "print(d1)\n",
    "ac()\n",
    "print(d1)\n",
    "print(id(d1))"
   ]
  },
  {
   "cell_type": "code",
   "execution_count": null,
   "metadata": {},
   "outputs": [],
   "source": []
  }
 ],
 "metadata": {
  "kernelspec": {
   "display_name": "Python 3",
   "language": "python",
   "name": "python3"
  },
  "language_info": {
   "codemirror_mode": {
    "name": "ipython",
    "version": 3
   },
   "file_extension": ".py",
   "mimetype": "text/x-python",
   "name": "python",
   "nbconvert_exporter": "python",
   "pygments_lexer": "ipython3",
   "version": "3.7.3"
  }
 },
 "nbformat": 4,
 "nbformat_minor": 2
}
