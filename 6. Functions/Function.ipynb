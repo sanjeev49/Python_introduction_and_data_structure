{
 "cells": [
  {
   "cell_type": "markdown",
   "metadata": {},
   "source": [
    "# Functions are used to escape from repetitiive code and saves our time"
   ]
  },
  {
   "cell_type": "code",
   "execution_count": 11,
   "metadata": {},
   "outputs": [
    {
     "name": "stdout",
     "output_type": "stream",
     "text": [
      "4\n",
      "2\n",
      "6.0\n"
     ]
    }
   ],
   "source": [
    "n = int(input())\n",
    "r = int(input())\n",
    "\n",
    "nt = 1\n",
    "for i in range(1,n+1):\n",
    "    nt = nt *i\n",
    "    \n",
    "rt = 1\n",
    "for i in range(1, r+1):\n",
    "    rt = rt * i\n",
    "\n",
    "n_r_fact = 1\n",
    "for i in range(1, n-r+1):\n",
    "    n_r_fact = n_r_fact * i\n",
    "ans = nt/(rt*n_r_fact)\n",
    "print(ans)"
   ]
  },
  {
   "cell_type": "code",
   "execution_count": 1,
   "metadata": {},
   "outputs": [],
   "source": [
    "def fact(n):\n",
    "    a_fact = 1\n",
    "    for i in range(1, n+1):\n",
    "        a_fact = a_fact * i\n",
    "        return a_fact"
   ]
  },
  {
   "cell_type": "code",
   "execution_count": 3,
   "metadata": {},
   "outputs": [
    {
     "data": {
      "text/plain": [
       "1"
      ]
     },
     "execution_count": 3,
     "metadata": {},
     "output_type": "execute_result"
    }
   ],
   "source": [
    "fact(5)"
   ]
  },
  {
   "cell_type": "code",
   "execution_count": 2,
   "metadata": {},
   "outputs": [],
   "source": [
    "def func(a):\n",
    "    a_fact = 1\n",
    "    for i in range(1, a+1):\n",
    "        a_fact = a_fact * i\n",
    "    return a_fact"
   ]
  },
  {
   "cell_type": "code",
   "execution_count": 18,
   "metadata": {},
   "outputs": [
    {
     "name": "stdout",
     "output_type": "stream",
     "text": [
      "24\n"
     ]
    }
   ],
   "source": [
    "a= func(4)\n",
    "print(a)"
   ]
  },
  {
   "cell_type": "code",
   "execution_count": 5,
   "metadata": {},
   "outputs": [
    {
     "name": "stdout",
     "output_type": "stream",
     "text": [
      "Enter first number: 11\n",
      "Enter second number: 5\n",
      "462\n"
     ]
    }
   ],
   "source": [
    "n = int(input(\"Enter first number: \"))\n",
    "r = int(input(\"Enter second number: \"))\n",
    "\n",
    "n_fact = func(n)\n",
    "r_fact = func(r)\n",
    "n_r_fact = func(n-r)\n",
    "\n",
    "ans = n_fact//(r_fact*n_r_fact)\n",
    "print(ans)"
   ]
  },
  {
   "cell_type": "code",
   "execution_count": null,
   "metadata": {},
   "outputs": [],
   "source": []
  }
 ],
 "metadata": {
  "kernelspec": {
   "display_name": "Python 3",
   "language": "python",
   "name": "python3"
  },
  "language_info": {
   "codemirror_mode": {
    "name": "ipython",
    "version": 3
   },
   "file_extension": ".py",
   "mimetype": "text/x-python",
   "name": "python",
   "nbconvert_exporter": "python",
   "pygments_lexer": "ipython3",
   "version": "3.7.3"
  }
 },
 "nbformat": 4,
 "nbformat_minor": 2
}
