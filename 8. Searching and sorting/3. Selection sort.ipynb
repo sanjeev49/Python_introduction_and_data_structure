{
 "cells": [
  {
   "cell_type": "code",
   "execution_count": 7,
   "metadata": {},
   "outputs": [
    {
     "name": "stdout",
     "output_type": "stream",
     "text": [
      "Enter the elements in the array:3 4 8 9 2 11 9 6 2 1\n",
      "Sorted elements are :  1 2 2 3 4 6 8 9 9 11\n"
     ]
    }
   ],
   "source": [
    "# In selection sort we found the minimum element on the arry and put it on zero position and aftersecond minimum elment and vice versa\n",
    "def selectionsort(array):\n",
    "    lenght = len(array)\n",
    "    for i in range(lenght-1):\n",
    "        minidex = i\n",
    "        for j in range(i+1, lenght):\n",
    "            if array[j] < array[minidex]:\n",
    "                minidex = j\n",
    "        array[i], array[minidex] = array[minidex], array[i]\n",
    "        \n",
    "                \n",
    "                \n",
    "\n",
    "\n",
    "\n",
    "\n",
    "array = [int(x) for x in input(\"Enter the elements in the array:\").split()]\n",
    "selectionsort(array)\n",
    "print(\"Sorted elements are : \",*array)\n",
    "\n",
    "\n",
    "\n",
    "\n",
    "\n",
    "\n",
    "\n",
    "\n"
   ]
  },
  {
   "cell_type": "code",
   "execution_count": null,
   "metadata": {},
   "outputs": [],
   "source": [
    "#Code of telusko\n"
   ]
  }
 ],
 "metadata": {
  "kernelspec": {
   "display_name": "Python 3",
   "language": "python",
   "name": "python3"
  },
  "language_info": {
   "codemirror_mode": {
    "name": "ipython",
    "version": 3
   },
   "file_extension": ".py",
   "mimetype": "text/x-python",
   "name": "python",
   "nbconvert_exporter": "python",
   "pygments_lexer": "ipython3",
   "version": "3.7.3"
  }
 },
 "nbformat": 4,
 "nbformat_minor": 2
}
