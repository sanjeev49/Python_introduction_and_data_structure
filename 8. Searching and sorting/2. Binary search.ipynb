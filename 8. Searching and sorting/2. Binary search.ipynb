{
 "cells": [
  {
   "cell_type": "code",
   "execution_count": 1,
   "metadata": {},
   "outputs": [
    {
     "name": "stdout",
     "output_type": "stream",
     "text": [
      "Enter number in the list for searching separated by comma3,4,5,6,8,9,10\n",
      "Enter number you want to search for: 9\n",
      "Your element found at index 5\n"
     ]
    }
   ],
   "source": [
    "# Program for binary search\n",
    "def binary(arr, ele):\n",
    "    start = 0\n",
    "    end = len(arr)-1\n",
    "    while start<= end:\n",
    "        mid = (start+end)//2\n",
    "        if arr[mid] == ele:\n",
    "            print(\"Your element found at index\", mid)\n",
    "            break\n",
    "        elif arr[mid] < ele:\n",
    "            start = mid +1\n",
    "        else:\n",
    "            end = mid -1\n",
    "arr = [int(x) for x in input(\"Enter number in the list for searching separated by comma\").split(\",\")]\n",
    "ele = int(input(\"Enter number you want to search for: \"))\n",
    "\n",
    "binary(arr, ele)"
   ]
  },
  {
   "cell_type": "code",
   "execution_count": 1,
   "metadata": {},
   "outputs": [
    {
     "name": "stdout",
     "output_type": "stream",
     "text": [
      "Enter elements of the array: 3 4 5 6 8 9\n",
      "Enter number you want to search: 5\n",
      "2\n"
     ]
    }
   ],
   "source": [
    "def binary_search(arr, element):\n",
    "    start = 0\n",
    "    end = len(arr) -1\n",
    "    while start<=end:\n",
    "        mid = (start+end)//2\n",
    "        if (arr[mid]) == element:\n",
    "            return mid\n",
    "        elif (arr[mid] < element):\n",
    "            start = mid +1\n",
    "        else:\n",
    "            end = mid-1\n",
    "    return False\n",
    "\n",
    "\n",
    "\n",
    "arr = [int(x) for x in input(\"Enter elements of the array: \").split()]\n",
    "x = int(input(\"Enter number you want to search: \"))\n",
    "index = binary_search(arr, x)\n",
    "print(index)"
   ]
  },
  {
   "cell_type": "code",
   "execution_count": 4,
   "metadata": {},
   "outputs": [
    {
     "ename": "SyntaxError",
     "evalue": "invalid syntax (<ipython-input-4-2f362cb90206>, line 15)",
     "output_type": "error",
     "traceback": [
      "\u001b[1;36m  File \u001b[1;32m\"<ipython-input-4-2f362cb90206>\"\u001b[1;36m, line \u001b[1;32m15\u001b[0m\n\u001b[1;33m    key = int(input())\u001b[0m\n\u001b[1;37m      ^\u001b[0m\n\u001b[1;31mSyntaxError\u001b[0m\u001b[1;31m:\u001b[0m invalid syntax\n"
     ]
    }
   ],
   "source": [
    "def binary(arr, low, high, key):\n",
    "    if low <= high:\n",
    "      mid = (low + high) // 2\n",
    "      if key == arr[mid]:\n",
    "        return mid\n",
    "      elif arr[mid] > key:\n",
    "        return binary(arr, low, mid - 1, key)\n",
    "      elif arr[mid] < key:\n",
    "        return binary(arr, mid + 1, high, key)\n",
    "    else:\n",
    "      return -1\n",
    "        \n",
    "n = int(input())        \n",
    "arr = [int (x) for x in input().split()\n",
    "key = int(input())\n",
    "ele = binary(arr, 0, n-1, key)\n",
    "print(ele)"
   ]
  },
  {
   "cell_type": "code",
   "execution_count": null,
   "metadata": {},
   "outputs": [],
   "source": []
  }
 ],
 "metadata": {
  "kernelspec": {
   "display_name": "Python 3",
   "language": "python",
   "name": "python3"
  },
  "language_info": {
   "codemirror_mode": {
    "name": "ipython",
    "version": 3
   },
   "file_extension": ".py",
   "mimetype": "text/x-python",
   "name": "python",
   "nbconvert_exporter": "python",
   "pygments_lexer": "ipython3",
   "version": "3.7.3"
  }
 },
 "nbformat": 4,
 "nbformat_minor": 2
}
