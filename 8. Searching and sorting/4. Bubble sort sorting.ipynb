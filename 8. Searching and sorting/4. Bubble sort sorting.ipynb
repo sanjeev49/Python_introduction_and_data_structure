{
 "cells": [
  {
   "cell_type": "markdown",
   "metadata": {},
   "source": [
    "## Bubble sort"
   ]
  },
  {
   "cell_type": "code",
   "execution_count": 1,
   "metadata": {},
   "outputs": [
    {
     "name": "stdout",
     "output_type": "stream",
     "text": [
      "Enter element of array: 4 8 2 3 99 1 0\n",
      "Elemets after sorting :  0 1 2 3 4 8 99\n"
     ]
    }
   ],
   "source": [
    "# For n elements we need n-1 round.\n",
    "def bubbleSort(arr):\n",
    "    length = len(arr)\n",
    "    for i in range(length -1):\n",
    "        for j in range(length -1 -i):\n",
    "            if arr[j] > arr[j+1]:\n",
    "                arr[j], arr[j+1] = arr[j+1], arr[j]\n",
    "arr = [int(x) for x in input().split()]\n",
    "bubbleSort(arr)\n",
    "print(*arr)"
   ]
  },
  {
   "cell_type": "code",
   "execution_count": null,
   "metadata": {},
   "outputs": [
    {
     "name": "stdout",
     "output_type": "stream",
     "text": [
      "5\n",
      "9 3 6 2 0\n"
     ]
    }
   ],
   "source": [
    "# For n elements we need n-1 round.\n",
    "def bubbleSort(arr):\n",
    "    length = len(arr)\n",
    "    while n >= length:\n",
    "        for i in range(length -1):\n",
    "            for j in range(length -1 -i):\n",
    "                if arr[j] > arr[j+1]:\n",
    "                    arr[j], arr[j+1] = arr[j+1], arr[j]\n",
    "\n",
    "n = int(input())                \n",
    "arr = [int(x) for x in input().split()]\n",
    "bubbleSort(arr)\n",
    "print(*arr)"
   ]
  },
  {
   "cell_type": "code",
   "execution_count": null,
   "metadata": {},
   "outputs": [],
   "source": []
  }
 ],
 "metadata": {
  "kernelspec": {
   "display_name": "Python 3",
   "language": "python",
   "name": "python3"
  },
  "language_info": {
   "codemirror_mode": {
    "name": "ipython",
    "version": 3
   },
   "file_extension": ".py",
   "mimetype": "text/x-python",
   "name": "python",
   "nbconvert_exporter": "python",
   "pygments_lexer": "ipython3",
   "version": "3.7.3"
  }
 },
 "nbformat": 4,
 "nbformat_minor": 2
}
