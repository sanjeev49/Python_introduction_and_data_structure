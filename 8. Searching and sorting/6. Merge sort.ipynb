{
 "cells": [
  {
   "cell_type": "code",
   "execution_count": null,
   "metadata": {},
   "outputs": [],
   "source": [
    "## Read input as specified in the question.\n",
    "## Print output as specified in the question.\n",
    "arr3 = []\n",
    "def merge_sort(arr1, arr2):\n",
    "    for i in range(len(arr1)):\n",
    "        for j in range(len(arr2)):\n",
    "            if arr1[i] <= arr2[j]:\n",
    "                arr3.append(i)\n",
    "                \n",
    "            else:\n",
    "                arr3.append(j)\n",
    "        \n",
    "n1 = int(input())\n",
    "arr1 = [int(x) for x in input().split()]\n",
    "n2 = int(input())\n",
    "arr2 = [int(x) for x in input().split()]\n",
    "\n",
    "arr3 = merge_sort(arr1, arr2)\n",
    "print(arr3)\n",
    "                "
   ]
  },
  {
   "cell_type": "code",
   "execution_count": null,
   "metadata": {},
   "outputs": [],
   "source": [
    "def merge_sort(arr1, arr2):\n",
    "    i = 0\n",
    "    j = 0\n",
    "    len1 = len(arr1)\n",
    "    len2 = len(arr2)\n",
    "    arr = []\n",
    "    while ((i<len1) and (j < len2)):\n",
    "        if arr1[i] < arr2[j]:\n",
    "            arr.append(arr1[i])\n",
    "            i += 1\n",
    "        else:\n",
    "            arr.append(arr2[j])\n",
    "            j += 1\n",
    "    while i<len1:\n",
    "        arr.append(arr1[i])\n",
    "        i += 1\n",
    "    while j<len2:\n",
    "        arr.append(arr2[j])\n",
    "        j += 1\n",
    "    return arr\n",
    "arr.sort()\n",
    "\n",
    "n1 = int(input())\n",
    "arr1 = [int(x) for x in input().split()]\n",
    "n2 = int(input())\n",
    "arr2 = [int(x) for x in input().split()]\n",
    "\n",
    "arr = merge_sort(arr1, arr2)\n",
    "print(arr)\n",
    "                \n"
   ]
  },
  {
   "cell_type": "code",
   "execution_count": null,
   "metadata": {},
   "outputs": [],
   "source": [
    "## Read input as specified in the question.\n",
    "## Print output as specified in the question.\n",
    "\n",
    "def merge_sort(arr1, arr2):\n",
    "    for i in range(len(arr1)):\n",
    "        for j in range(len(arr2)):\n",
    "            if arr[i] <= arr[j]:\n",
    "                arr3.appned(i)\n",
    "                \n",
    "            else:\n",
    "                arr3.append(j)\n",
    "        for ele in arr3:\n",
    "            print(ele, end='')\n",
    "arr3= []    \n",
    "n1 = int(input())\n",
    "arr1 = [int(x) for x in input().split()]\n",
    "n2 = int(input())\n",
    "arr2 = [int(x) for x in input().split()]\n",
    "\n",
    "arr3 = merge_sort(arr1, arr2)\n",
    "print(arr)\n"
   ]
  },
  {
   "cell_type": "code",
   "execution_count": 1,
   "metadata": {},
   "outputs": [
    {
     "name": "stdout",
     "output_type": "stream",
     "text": [
      "4 5 8 9 11\n"
     ]
    },
    {
     "ename": "ValueError",
     "evalue": "invalid literal for int() with base 10: '4 5 8 9 11'",
     "output_type": "error",
     "traceback": [
      "\u001b[1;31m---------------------------------------------------------------------------\u001b[0m",
      "\u001b[1;31mValueError\u001b[0m                                Traceback (most recent call last)",
      "\u001b[1;32m<ipython-input-1-ac737d8554ff>\u001b[0m in \u001b[0;36m<module>\u001b[1;34m\u001b[0m\n\u001b[0;32m     13\u001b[0m             \u001b[0mprint\u001b[0m\u001b[1;33m(\u001b[0m\u001b[0mele\u001b[0m\u001b[1;33m,\u001b[0m \u001b[0mend\u001b[0m\u001b[1;33m=\u001b[0m\u001b[1;34m''\u001b[0m\u001b[1;33m)\u001b[0m\u001b[1;33m\u001b[0m\u001b[1;33m\u001b[0m\u001b[0m\n\u001b[0;32m     14\u001b[0m \u001b[0marr3\u001b[0m\u001b[1;33m=\u001b[0m \u001b[1;33m[\u001b[0m\u001b[1;33m]\u001b[0m\u001b[1;33m\u001b[0m\u001b[1;33m\u001b[0m\u001b[0m\n\u001b[1;32m---> 15\u001b[1;33m \u001b[0mn1\u001b[0m \u001b[1;33m=\u001b[0m \u001b[0mint\u001b[0m\u001b[1;33m(\u001b[0m\u001b[0minput\u001b[0m\u001b[1;33m(\u001b[0m\u001b[1;33m)\u001b[0m\u001b[1;33m)\u001b[0m\u001b[1;33m\u001b[0m\u001b[1;33m\u001b[0m\u001b[0m\n\u001b[0m\u001b[0;32m     16\u001b[0m \u001b[0marr1\u001b[0m \u001b[1;33m=\u001b[0m \u001b[1;33m[\u001b[0m\u001b[0mint\u001b[0m\u001b[1;33m(\u001b[0m\u001b[0mx\u001b[0m\u001b[1;33m)\u001b[0m \u001b[1;32mfor\u001b[0m \u001b[0mx\u001b[0m \u001b[1;32min\u001b[0m \u001b[0minput\u001b[0m\u001b[1;33m(\u001b[0m\u001b[1;33m)\u001b[0m\u001b[1;33m.\u001b[0m\u001b[0msplit\u001b[0m\u001b[1;33m(\u001b[0m\u001b[1;33m)\u001b[0m\u001b[1;33m]\u001b[0m\u001b[1;33m\u001b[0m\u001b[1;33m\u001b[0m\u001b[0m\n\u001b[0;32m     17\u001b[0m \u001b[0mn2\u001b[0m \u001b[1;33m=\u001b[0m \u001b[0mint\u001b[0m\u001b[1;33m(\u001b[0m\u001b[0minput\u001b[0m\u001b[1;33m(\u001b[0m\u001b[1;33m)\u001b[0m\u001b[1;33m)\u001b[0m\u001b[1;33m\u001b[0m\u001b[1;33m\u001b[0m\u001b[0m\n",
      "\u001b[1;31mValueError\u001b[0m: invalid literal for int() with base 10: '4 5 8 9 11'"
     ]
    }
   ],
   "source": [
    "## Read input as specified in the question.\n",
    "## Print output as specified in the question.\n",
    "\n",
    "def merge_sort(arr1, arr2):\n",
    "    for i in range(len(arr1)):\n",
    "        for j in range(len(arr2)):\n",
    "            if arr1[i] <= arr2[j]:\n",
    "                arr3.append(i)\n",
    "                \n",
    "            else:\n",
    "                arr3.append(j)\n",
    "        for ele in arr3:\n",
    "            print(ele, end='')\n",
    "arr3= []    \n",
    "n1 = int(input())\n",
    "arr1 = [int(x) for x in input().split()]\n",
    "n2 = int(input())\n",
    "arr2 = [int(x) for x in input().split()]\n",
    "\n",
    "arr4 = merge_sort(arr1, arr2)\n",
    "print(arr4)\n"
   ]
  },
  {
   "cell_type": "code",
   "execution_count": null,
   "metadata": {},
   "outputs": [],
   "source": [
    "def replace(str, char1, char2):\n",
    "    str1 = ''\n",
    "    for char in str:\n",
    "        if (char == char1):\n",
    "            str1 += char2\n",
    "        else:\n",
    "            str1 += char\n",
    "    return str1\n",
    "\n",
    "s = \"My name is sanjeev from sangra\"\n",
    "stp = replace(s, 's', 'b')\n",
    "print(stp)"
   ]
  },
  {
   "cell_type": "code",
   "execution_count": 5,
   "metadata": {},
   "outputs": [
    {
     "name": "stdout",
     "output_type": "stream",
     "text": [
      "5 \n",
      "10 29 39 9 99 292\n",
      "5\n",
      "1 2 938 494 2103 \n",
      "1 2 10 29 39 9 99 292 938 494 2103\n"
     ]
    }
   ],
   "source": [
    "def merge_sort(arr1, arr2):\n",
    "    i = 0\n",
    "    j = 0\n",
    "    len1 = len(arr1)\n",
    "    len2 = len(arr2)\n",
    "    arr = []\n",
    "    while ((i<len1) and (j < len2)):\n",
    "        if arr1[i] < arr2[j]:\n",
    "            arr.append(arr1[i])\n",
    "            i += 1\n",
    "        else:\n",
    "            arr.append(arr2[j])\n",
    "            j += 1\n",
    "    while i<len1:\n",
    "        arr.append(arr1[i])\n",
    "        i += 12\n",
    "    while j<len2:\n",
    "        arr.append(arr2[j])\n",
    "        j += 1\n",
    "    return arr\n",
    "\n",
    "\n",
    "n1 = int(input())\n",
    "arr1 = [int(x) for x in input().split()]\n",
    "n2 = int(input())\n",
    "arr2 = [int(x) for x in input().split()]\n",
    "\n",
    "arr = merge_sort(arr1, arr2)\n",
    "print(*arr)\n",
    "                \n"
   ]
  },
  {
   "cell_type": "code",
   "execution_count": null,
   "metadata": {},
   "outputs": [],
   "source": []
  }
 ],
 "metadata": {
  "kernelspec": {
   "display_name": "Python 3",
   "language": "python",
   "name": "python3"
  },
  "language_info": {
   "codemirror_mode": {
    "name": "ipython",
    "version": 3
   },
   "file_extension": ".py",
   "mimetype": "text/x-python",
   "name": "python",
   "nbconvert_exporter": "python",
   "pygments_lexer": "ipython3",
   "version": "3.7.3"
  }
 },
 "nbformat": 4,
 "nbformat_minor": 2
}
