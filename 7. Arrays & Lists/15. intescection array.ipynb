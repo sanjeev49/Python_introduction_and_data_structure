{
 "cells": [
  {
   "cell_type": "code",
   "execution_count": 3,
   "metadata": {},
   "outputs": [
    {
     "name": "stdin",
     "output_type": "stream",
     "text": [
      " 1 2 3 4 5 8 9 6\n",
      " 1 2 3 6 8\n"
     ]
    },
    {
     "name": "stdout",
     "output_type": "stream",
     "text": [
      "1\n",
      "2\n",
      "3\n",
      "8\n",
      "6\n"
     ]
    }
   ],
   "source": [
    "arr1 = [int(x) for x in input().split()]\n",
    "arr2 = [int(x) for x in input().split()]\n",
    "\n",
    "for i in arr1:\n",
    "    c = []\n",
    "    for j in arr2:\n",
    "        if  i == j:\n",
    "            c.append(i)\n",
    "    for i in c:\n",
    "        print(*c)\n",
    "        break"
   ]
  },
  {
   "cell_type": "code",
   "execution_count": 9,
   "metadata": {},
   "outputs": [
    {
     "name": "stdin",
     "output_type": "stream",
     "text": [
      " 1\n",
      " 1 23 3 4 58 9\n",
      " 8\n",
      " 1 32 8 58 9\n"
     ]
    },
    {
     "name": "stdout",
     "output_type": "stream",
     "text": [
      "1\n",
      "58\n",
      "9\n"
     ]
    }
   ],
   "source": [
    "#2nd method coding ninjas\n",
    "n = int(input())\n",
    "arr1 = [int(x) for x in input().split()]\n",
    "n2 = int(input())\n",
    "arr2 = [int(x) for x in input().split()]\n",
    "\n",
    "arr3 = []\n",
    "for i in arr1:\n",
    "    for j in arr2:\n",
    "        if i == j:\n",
    "            arr3.append(i)\n",
    "            arr2.remove(j)\n",
    "            break\n",
    "for ele in arr3:\n",
    "    print(ele)"
   ]
  },
  {
   "cell_type": "code",
   "execution_count": 7,
   "metadata": {},
   "outputs": [
    {
     "name": "stdin",
     "output_type": "stream",
     "text": [
      " 8\n",
      " 1 2 3 4 8 9 6 7\n",
      " 9\n",
      " 1 2 3 9 3 8 6 3\n"
     ]
    },
    {
     "name": "stdout",
     "output_type": "stream",
     "text": [
      "1\n",
      "2\n",
      "3\n",
      "8\n",
      "9\n",
      "6\n"
     ]
    }
   ],
   "source": [
    "## Read input as specified in the question.\n",
    "## Print output as specified in the question.\n",
    "m = int(input()) \n",
    "li1 = [int(x) for x in input().split()[:m]] \n",
    "n = int(input()) \n",
    "li2 = [int(x) for x in input().split()[:n]] \n",
    "li3 = [] \n",
    "for i in li1:\n",
    "   for j in li2:\n",
    "      if i == j:\n",
    "        li3.append(i) \n",
    "        li2.remove(j) \n",
    "        break \n",
    "for ele in li3:\n",
    "   print(ele)"
   ]
  },
  {
   "cell_type": "code",
   "execution_count": null,
   "metadata": {},
   "outputs": [],
   "source": []
  }
 ],
 "metadata": {
  "kernelspec": {
   "display_name": "Python 3",
   "language": "python",
   "name": "python3"
  },
  "language_info": {
   "codemirror_mode": {
    "name": "ipython",
    "version": 3
   },
   "file_extension": ".py",
   "mimetype": "text/x-python",
   "name": "python",
   "nbconvert_exporter": "python",
   "pygments_lexer": "ipython3",
   "version": "3.7.3"
  }
 },
 "nbformat": 4,
 "nbformat_minor": 4
}
