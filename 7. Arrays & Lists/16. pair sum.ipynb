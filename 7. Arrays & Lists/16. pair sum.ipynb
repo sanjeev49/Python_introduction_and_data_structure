{
 "cells": [
  {
   "cell_type": "code",
   "execution_count": 1,
   "metadata": {},
   "outputs": [],
   "source": [
    "n = [1,2,3,4,5]"
   ]
  },
  {
   "cell_type": "code",
   "execution_count": 3,
   "metadata": {},
   "outputs": [
    {
     "data": {
      "text/plain": [
       "4"
      ]
     },
     "execution_count": 3,
     "metadata": {},
     "output_type": "execute_result"
    }
   ],
   "source": [
    "len(n)-1"
   ]
  },
  {
   "cell_type": "code",
   "execution_count": 5,
   "metadata": {},
   "outputs": [
    {
     "name": "stdin",
     "output_type": "stream",
     "text": [
      " 1 3 6 2 5 4 3 2 4\n",
      " 7\n"
     ]
    },
    {
     "name": "stdout",
     "output_type": "stream",
     "text": [
      "1   6\n",
      "3   4\n",
      "3   4\n",
      "2   5\n",
      "2   5\n",
      "3   4\n",
      "3   4\n"
     ]
    }
   ],
   "source": [
    "def pair_sum(a, b):\n",
    "    if (a<=b):\n",
    "        print(a, ' ', b)\n",
    "    else:\n",
    "        print(b, ' ', a)\n",
    "arr = [int(x) for x in input().split()]\n",
    "summ = int(input())\n",
    "\n",
    "for i in range(0, len(arr)-1):\n",
    "    for j in range(i+1, len(arr)):\n",
    "        if (arr[i] + arr[j] == summ):\n",
    "            pair_sum(arr[i], arr[j])\n"
   ]
  },
  {
   "cell_type": "markdown",
   "metadata": {},
   "source": [
    "### Triplet `sum`"
   ]
  },
  {
   "cell_type": "code",
   "execution_count": 11,
   "metadata": {},
   "outputs": [],
   "source": [
    "def triplets(a,b,c):\n",
    "    if a <=b and a <= c:\n",
    "        if b<c:\n",
    "            print(a,b,c)\n",
    "        else:\n",
    "            print(a,c,b)\n",
    "    elif b <= a and b <= c:\n",
    "        if a<c:\n",
    "            print(b, a, c)\n",
    "        else:\n",
    "            print(b,c,a)\n",
    "    else:\n",
    "        if a<b:\n",
    "            print(c, a,b)\n",
    "        else:\n",
    "            print(c,b,a)"
   ]
  },
  {
   "cell_type": "code",
   "execution_count": 12,
   "metadata": {},
   "outputs": [
    {
     "name": "stdin",
     "output_type": "stream",
     "text": [
      " 1 2 3 4 5 6 7 \n",
      " 19\n"
     ]
    }
   ],
   "source": [
    "arrr = [int(x) for x in input().split()]\n",
    "s = int(input())\n",
    "\n",
    "for i in range(0, len(arrr)-2):\n",
    "    for j in range(i+1, len(arrr)-1):\n",
    "        for k in range(j+1, len(arrr)):\n",
    "            if (arrr[i] + arrr[j] + arrr[k] == s):\n",
    "                 triplets(arrr[i], arrr[j], arrr[k])"
   ]
  },
  {
   "cell_type": "code",
   "execution_count": null,
   "metadata": {},
   "outputs": [],
   "source": []
  }
 ],
 "metadata": {
  "kernelspec": {
   "display_name": "Python 3",
   "language": "python",
   "name": "python3"
  },
  "language_info": {
   "codemirror_mode": {
    "name": "ipython",
    "version": 3
   },
   "file_extension": ".py",
   "mimetype": "text/x-python",
   "name": "python",
   "nbconvert_exporter": "python",
   "pygments_lexer": "ipython3",
   "version": "3.7.3"
  }
 },
 "nbformat": 4,
 "nbformat_minor": 4
}
