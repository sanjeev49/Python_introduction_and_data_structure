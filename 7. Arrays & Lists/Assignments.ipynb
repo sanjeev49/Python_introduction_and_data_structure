{
 "cells": [
  {
   "cell_type": "markdown",
   "metadata": {},
   "source": [
    "#Unique elements"
   ]
  },
  {
   "cell_type": "code",
   "execution_count": 14,
   "metadata": {},
   "outputs": [
    {
     "name": "stdout",
     "output_type": "stream",
     "text": [
      "1\n",
      "1\n",
      "1\n"
     ]
    }
   ],
   "source": [
    "n=int(input())\n",
    "lis=[int(x) for x in input().split()]\n",
    "for x in lis:\n",
    "    c=0\n",
    "    for i in lis:\n",
    "        if i==x:\n",
    "            c=c+1\n",
    "    if c==1:\n",
    "        print(x)\n",
    "        break"
   ]
  },
  {
   "cell_type": "markdown",
   "metadata": {},
   "source": [
    "# 2 Duplicate elements"
   ]
  },
  {
   "cell_type": "code",
   "execution_count": 23,
   "metadata": {},
   "outputs": [
    {
     "name": "stdout",
     "output_type": "stream",
     "text": [
      "5\n",
      "1 2 3 4 2\n"
     ]
    },
    {
     "ename": "TypeError",
     "evalue": "'list' object is not callable",
     "output_type": "error",
     "traceback": [
      "\u001b[1;31m---------------------------------------------------------------------------\u001b[0m",
      "\u001b[1;31mTypeError\u001b[0m                                 Traceback (most recent call last)",
      "\u001b[1;32m<ipython-input-23-62f6850178d0>\u001b[0m in \u001b[0;36m<module>\u001b[1;34m\u001b[0m\n\u001b[0;32m      9\u001b[0m \u001b[1;31m# Main\u001b[0m\u001b[1;33m\u001b[0m\u001b[1;33m\u001b[0m\u001b[1;33m\u001b[0m\u001b[0m\n\u001b[0;32m     10\u001b[0m \u001b[0mn\u001b[0m\u001b[1;33m=\u001b[0m\u001b[0mint\u001b[0m\u001b[1;33m(\u001b[0m\u001b[0minput\u001b[0m\u001b[1;33m(\u001b[0m\u001b[1;33m)\u001b[0m\u001b[1;33m)\u001b[0m\u001b[1;33m\u001b[0m\u001b[1;33m\u001b[0m\u001b[0m\n\u001b[1;32m---> 11\u001b[1;33m \u001b[0marr\u001b[0m\u001b[1;33m=\u001b[0m\u001b[0mlist\u001b[0m\u001b[1;33m(\u001b[0m\u001b[0mint\u001b[0m\u001b[1;33m(\u001b[0m\u001b[0mi\u001b[0m\u001b[1;33m)\u001b[0m \u001b[1;32mfor\u001b[0m \u001b[0mi\u001b[0m \u001b[1;32min\u001b[0m \u001b[0minput\u001b[0m\u001b[1;33m(\u001b[0m\u001b[1;33m)\u001b[0m\u001b[1;33m.\u001b[0m\u001b[0mstrip\u001b[0m\u001b[1;33m(\u001b[0m\u001b[1;33m)\u001b[0m\u001b[1;33m.\u001b[0m\u001b[0msplit\u001b[0m\u001b[1;33m(\u001b[0m\u001b[1;34m' '\u001b[0m\u001b[1;33m)\u001b[0m\u001b[1;33m)\u001b[0m\u001b[1;33m\u001b[0m\u001b[1;33m\u001b[0m\u001b[0m\n\u001b[0m\u001b[0;32m     12\u001b[0m \u001b[0mans\u001b[0m\u001b[1;33m=\u001b[0m\u001b[0mMissingNumber\u001b[0m\u001b[1;33m(\u001b[0m\u001b[0marr\u001b[0m\u001b[1;33m,\u001b[0m\u001b[0mn\u001b[0m\u001b[1;33m)\u001b[0m\u001b[1;33m\u001b[0m\u001b[1;33m\u001b[0m\u001b[0m\n\u001b[0;32m     13\u001b[0m \u001b[0mprint\u001b[0m\u001b[1;33m(\u001b[0m\u001b[0mans\u001b[0m\u001b[1;33m)\u001b[0m\u001b[1;33m\u001b[0m\u001b[1;33m\u001b[0m\u001b[0m\n",
      "\u001b[1;31mTypeError\u001b[0m: 'list' object is not callable"
     ]
    }
   ],
   "source": [
    "def MissingNumber(arr,n):\n",
    "    sum1=((n-1)*(n-2))//2\n",
    "    sum2=0\n",
    "    for i in range(n):\n",
    "        sum2+=arr[i]\n",
    "    return sum2-sum1    \n",
    "\n",
    "\n",
    "# Main\n",
    "n=int(input())\n",
    "arr=list(int(i) for i in input().strip().split(' '))\n",
    "ans=MissingNumber(arr,n)\n",
    "print(ans)"
   ]
  },
  {
   "cell_type": "markdown",
   "metadata": {},
   "source": [
    "## Intesection element in the array"
   ]
  },
  {
   "cell_type": "code",
   "execution_count": 3,
   "metadata": {},
   "outputs": [
    {
     "name": "stdout",
     "output_type": "stream",
     "text": [
      "1\n",
      "2 3 \n",
      "2\n",
      "3\n",
      "3\n"
     ]
    }
   ],
   "source": [
    "n1 = int(input())\n",
    "arr1 = [int(x) for x in input().split()]\n",
    "n2 = int(input())\n",
    "arr2 = [int(x) for x in input().split()]\n",
    "arr3 = []\n",
    "for i in arr1:\n",
    "    for j in arr2:\n",
    "        if i== j:\n",
    "            arr3.append(i)\n",
    "            arr2.remove(j)\n",
    "            break\n",
    "for ele in arr3:\n",
    "    print(ele)"
   ]
  },
  {
   "cell_type": "markdown",
   "metadata": {},
   "source": [
    "## Pair sum"
   ]
  },
  {
   "cell_type": "code",
   "execution_count": 5,
   "metadata": {},
   "outputs": [
    {
     "name": "stdout",
     "output_type": "stream",
     "text": [
      "7\n",
      "1 2 3 4 5 6 7\n",
      "7\n",
      "1\n",
      "2\n",
      "3\n",
      "4\n",
      "5\n",
      "6\n"
     ]
    }
   ],
   "source": [
    "## Read input as specified in the question.\n",
    "## Print output as specified in the question.\n",
    "def pair_sum(a,b):\n",
    "    if a <= b:\n",
    "        print(a, \" \",b)\n",
    "    else:\n",
    "        print(b, \" \",a)\n",
    "        \n",
    "n = int(input())\n",
    "li = [int(x) for x in input().split()]\n",
    "key = int(input())\n",
    "\n",
    "for i in range(0, len(li)-1):\n",
    "    for j in range(i+1, len(li)):\n",
    "        if (li[i] + li[j] == key):\n",
    "            pair_sum(li[i], li[j])\n"
   ]
  },
  {
   "cell_type": "code",
   "execution_count": 1,
   "metadata": {},
   "outputs": [
    {
     "name": "stdout",
     "output_type": "stream",
     "text": [
      "7\n",
      "1 2 3 4 5 6 7\n",
      "12\n",
      "1   4   7\n",
      "1   5   6\n",
      "1   6   5\n",
      "1   7   4\n",
      "2   3   7\n",
      "2   4   6\n",
      "2   5   5\n",
      "2   6   4\n",
      "3   4   5\n"
     ]
    }
   ],
   "source": [
    "## Read input as specified in the question.\n",
    "## Print output as specified in the question.\n",
    "# My code\n",
    "def triplets(a,b,c):\n",
    "    if a <=b and a <= c:\n",
    "        print(a, \" \", b, \" \", c)\n",
    "    elif b <= a and b <= c:\n",
    "        print(b, \" \", a, \" \", c)\n",
    "    else:\n",
    "        print(c,\" \", a,\" \",b)\n",
    "        \n",
    "n = int(input())\n",
    "li = [int(x) for x in input().split()]\n",
    "key = int(input())\n",
    "for i in range(0, len(li)-1):\n",
    "    for j in range(i+1, len(li)):\n",
    "        for k in range(i+2, len(li)):\n",
    "            if (li[i] + li[j]+ li[k] == key):\n",
    "                \n",
    "                triplets(li[i], li[j], li[k])"
   ]
  },
  {
   "cell_type": "code",
   "execution_count": 2,
   "metadata": {},
   "outputs": [
    {
     "name": "stdout",
     "output_type": "stream",
     "text": [
      "7\n",
      "1 2 3 4 5 6 7\n",
      "12\n",
      "1 4 7\n",
      "1 5 6\n",
      "2 3 7\n",
      "2 4 6\n",
      "3 4 5\n"
     ]
    }
   ],
   "source": [
    "## Read input as specified in the question.\n",
    "## Print output as specified in the question.\n",
    "def triplets(a,b,c):\n",
    "    if a <=b and a <= c:\n",
    "        if b<c:\n",
    "            print(a,b,c)\n",
    "        else:\n",
    "            print(a,c,b)\n",
    "    elif b <= a and b <= c:\n",
    "        if a<c:\n",
    "            print(b, a, c)\n",
    "        else:\n",
    "            print(b,c,a)\n",
    "    else:\n",
    "        if a<b:\n",
    "            print(c, a,b)\n",
    "        else:\n",
    "            print(c,b,a)\n",
    "        \n",
    "n = int(input())\n",
    "li = [int(x) for x in input().split()]\n",
    "key = int(input())\n",
    "for i in range(0, len(li)-2):\n",
    "    for j in range(i+1, len(li)-1):\n",
    "        for k in range(j+1, len(li)):\n",
    "            if (li[i] + li[j]+ li[k] == key):\n",
    "                \n",
    "                triplets(li[i], li[j], li[k])"
   ]
  },
  {
   "cell_type": "code",
   "execution_count": 2,
   "metadata": {},
   "outputs": [
    {
     "name": "stdout",
     "output_type": "stream",
     "text": [
      "1\n",
      "0 1 0 0 0 1 1 1 1 0 0 0\n",
      "0 0 0 0 0 0 0 1 1 1 1 1 "
     ]
    }
   ],
   "source": [
    "# Sort 0 and 1\n",
    "## Read input as specified in the question.\n",
    "## Print output as specified in the question.\n",
    "n = int(input())\n",
    "arr = [int(x) for x in input().split()]\n",
    "count0 = 0\n",
    "count1 = 0\n",
    "for i in arr:\n",
    "    if i == 0:\n",
    "        count0 += 1\n",
    "    else:\n",
    "        count1 += 1\n",
    "list = []\n",
    "for k in range(0, count0):\n",
    "    list.append(0)\n",
    "for k in range(0, count1):\n",
    "    list.append(1)\n",
    "\n",
    "for ele in list:\n",
    "    print(ele, end= ' ')"
   ]
  },
  {
   "cell_type": "code",
   "execution_count": null,
   "metadata": {},
   "outputs": [],
   "source": []
  }
 ],
 "metadata": {
  "kernelspec": {
   "display_name": "Python 3",
   "language": "python",
   "name": "python3"
  },
  "language_info": {
   "codemirror_mode": {
    "name": "ipython",
    "version": 3
   },
   "file_extension": ".py",
   "mimetype": "text/x-python",
   "name": "python",
   "nbconvert_exporter": "python",
   "pygments_lexer": "ipython3",
   "version": "3.7.3"
  }
 },
 "nbformat": 4,
 "nbformat_minor": 2
}
