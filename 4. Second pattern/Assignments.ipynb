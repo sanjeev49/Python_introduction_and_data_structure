{
 "cells": [
  {
   "cell_type": "raw",
   "metadata": {},
   "source": [
    "1        \n",
    "12\n",
    "123\n",
    "1234\n",
    "12345\n",
    "\n",
    "n1 = (n+1)/2\n",
    "n2 = n/2 or n-1"
   ]
  },
  {
   "cell_type": "code",
   "execution_count": 4,
   "metadata": {},
   "outputs": [
    {
     "name": "stdout",
     "output_type": "stream",
     "text": [
      "7\n",
      "      *\n",
      "             ***\n",
      "            *****\n",
      "           *******\n",
      "          *********\n",
      "         ***********\n",
      "        *************\n"
     ]
    }
   ],
   "source": [
    "## Read input as specified in the question.\n",
    "## Print output as specified in the question.\n",
    "n = int(input())\n",
    "i = 1\n",
    "# For first half\n",
    "while i<=n:\n",
    "    spaces = 1\n",
    "    while spaces <= n-i:\n",
    "        print(\" \", end= '')\n",
    "        spaces += 1\n",
    "    star = 1\n",
    "    while star <= i:\n",
    "        print(\"*\", end = '')\n",
    "        star += 1\n",
    "    back = i-1\n",
    "    while back >= 1:\n",
    "        print(\"*\", end= '')\n",
    "        back -= 1\n",
    "    print()\n",
    "    i += 1\n",
    "# For second half\n",
    "    while i<=n:\n",
    "        space = 1\n",
    "        while space <= n*2-i+1:\n",
    "            print(\" \", end= '')\n",
    "            space += 1\n",
    "        stars = 1\n",
    "        while stars <= 2*i-1:\n",
    "            print(\"*\", end= '')\n",
    "            stars += 1\n",
    "        print()\n",
    "        i += 1"
   ]
  },
  {
   "cell_type": "code",
   "execution_count": 14,
   "metadata": {},
   "outputs": [
    {
     "name": "stdout",
     "output_type": "stream",
     "text": [
      "8\n",
      "1              1\n",
      "12            21\n",
      "123          321\n",
      "1234        4321\n",
      "12345      54321\n",
      "123456    654321\n",
      "1234567  7654321\n",
      "1234567887654321\n"
     ]
    }
   ],
   "source": [
    "n = int(input())\n",
    "i = 1\n",
    "# First number\n",
    "while i<=n:\n",
    "    start = 1\n",
    "    while start <=i:\n",
    "        print(start, end='')\n",
    "        start += 1\n",
    "    # For spaces\n",
    "    spaces = 1\n",
    "    while spaces <= ((2*n)-(2*i)):\n",
    "        print(\" \", end='')\n",
    "        spaces += 1\n",
    "    # for second half numbers\n",
    "    last_num = i\n",
    "    while last_num>0:\n",
    "        print(last_num, end='')\n",
    "        last_num -= 1\n",
    "    print()\n",
    "    i += 1\n"
   ]
  },
  {
   "cell_type": "code",
   "execution_count": null,
   "metadata": {},
   "outputs": [],
   "source": []
  }
 ],
 "metadata": {
  "kernelspec": {
   "display_name": "Python 3",
   "language": "python",
   "name": "python3"
  },
  "language_info": {
   "codemirror_mode": {
    "name": "ipython",
    "version": 3
   },
   "file_extension": ".py",
   "mimetype": "text/x-python",
   "name": "python",
   "nbconvert_exporter": "python",
   "pygments_lexer": "ipython3",
   "version": "3.7.3"
  }
 },
 "nbformat": 4,
 "nbformat_minor": 2
}
