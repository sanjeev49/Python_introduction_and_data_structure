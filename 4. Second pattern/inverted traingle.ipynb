{
 "cells": [
  {
   "cell_type": "code",
   "execution_count": 3,
   "metadata": {},
   "outputs": [
    {
     "name": "stdout",
     "output_type": "stream",
     "text": [
      "5\n",
      "*****\n",
      "****\n",
      "***\n",
      "**\n",
      "*\n"
     ]
    }
   ],
   "source": [
    "n = int(input())\n",
    "i = 1\n",
    "while i<=n:\n",
    "    j = 1\n",
    "    while j<= n-i+1:\n",
    "        print(\"*\", end = '')\n",
    "        j += 1\n",
    "    print()\n",
    "    i += 1"
   ]
  },
  {
   "cell_type": "code",
   "execution_count": 8,
   "metadata": {},
   "outputs": [
    {
     "name": "stdout",
     "output_type": "stream",
     "text": [
      "5\n",
      "55555\n",
      "4444\n",
      "333\n",
      "22\n",
      "1\n"
     ]
    }
   ],
   "source": [
    "## Read input as specified in the question\n",
    "## Print the required output in given format\n",
    "n = int(input())\n",
    "i = 1\n",
    "while i <= n:\n",
    "    j = 1\n",
    "    while j<= n-i+1:\n",
    "        print(n-i+1, end = '')\n",
    "        j += 1\n",
    "    print()\n",
    "    i += 1\n",
    "        \n",
    "            "
   ]
  },
  {
   "cell_type": "code",
   "execution_count": 12,
   "metadata": {},
   "outputs": [
    {
     "name": "stdout",
     "output_type": "stream",
     "text": [
      "5\n",
      "     *\n",
      "    **\n",
      "   ***\n",
      "  ****\n",
      " *****\n"
     ]
    }
   ],
   "source": [
    "## Code for mirror pattern\n",
    "n = int(input())\n",
    "i = 1\n",
    "while i<=n:\n",
    "    j = 1\n",
    "    while j<=n-i+1:\n",
    "        print(\" \",end = '')\n",
    "        j += 1\n",
    "    stars = 1\n",
    "    while stars <=i:\n",
    "        print(\"*\", end= '')\n",
    "        stars += 1\n",
    "    print()\n",
    "    i += 1"
   ]
  },
  {
   "cell_type": "code",
   "execution_count": 3,
   "metadata": {},
   "outputs": [
    {
     "name": "stdout",
     "output_type": "stream",
     "text": [
      "5\n",
      "     1\n",
      "    12\n",
      "   123\n",
      "  1234\n",
      " 12345\n"
     ]
    }
   ],
   "source": [
    "## Mirror number pattern\n",
    "n = int(input())\n",
    "i = 1\n",
    "while i<=n:\n",
    "    spaces = 1\n",
    "    while spaces <= n-i:\n",
    "        print(\" \", end = '')\n",
    "        spaces += 1\n",
    "    num = 1\n",
    "    while num<= i:\n",
    "        print(num, end = '')\n",
    "        num += 1\n",
    "    print()\n",
    "    i += 1"
   ]
  },
  {
   "cell_type": "code",
   "execution_count": 6,
   "metadata": {},
   "outputs": [
    {
     "name": "stdout",
     "output_type": "stream",
     "text": [
      "4\n",
      "    1\n",
      "   12\n",
      "  123\n",
      " 1234\n"
     ]
    }
   ],
   "source": [
    "## Mirror number pattern\n",
    "n = int(input())\n",
    "i = 1\n",
    "while i<=n:\n",
    "    spaces = 1\n",
    "    while spaces <= n-i+1:\n",
    "        print(\" \", end = '')\n",
    "        spaces += 1\n",
    "    num = 1\n",
    "    while num<= i:\n",
    "        print(num, end = '')\n",
    "        num += 1\n",
    "    print()\n",
    "    i += 1"
   ]
  },
  {
   "cell_type": "code",
   "execution_count": 1,
   "metadata": {},
   "outputs": [
    {
     "name": "stdout",
     "output_type": "stream",
     "text": [
      "5\n",
      "    1\n",
      "   121\n",
      "  12321\n",
      " 1234321\n",
      "123454321\n"
     ]
    }
   ],
   "source": [
    "# Code for isocels pattern\n",
    "n = int(input())\n",
    "i = 1\n",
    "while i<=n:\n",
    "    # Spaces\n",
    "    spaces = 1\n",
    "    while spaces <= n-i:\n",
    "        print(\" \", end = '')\n",
    "        spaces += 1\n",
    "    # Incereasing number\n",
    "    num = 1\n",
    "    p = 1\n",
    "    while num <= i:\n",
    "        print(p, end = '')\n",
    "        \n",
    "        p += 1\n",
    "        num += 1\n",
    "    # descreasing sequence \n",
    "    p = i -1\n",
    "    while p>=1 :\n",
    "        print(p, end = '')\n",
    "        p = p-1\n",
    "    print()\n",
    "    i += 1"
   ]
  },
  {
   "cell_type": "code",
   "execution_count": 1,
   "metadata": {},
   "outputs": [
    {
     "name": "stdout",
     "output_type": "stream",
     "text": [
      "8\n",
      "       *\n",
      "      ***\n",
      "     *****\n",
      "    *******\n",
      "   *********\n",
      "  ***********\n",
      " *************\n",
      "***************\n"
     ]
    }
   ],
   "source": [
    "## Read input as specified in the question.\n",
    "## Print output as specified in the question.\n",
    "n = int(input())\n",
    "i = 1\n",
    "while i<=n:\n",
    "    spaces = 1\n",
    "    while spaces <= n-i:\n",
    "        print(\" \", end= '')\n",
    "        spaces += 1\n",
    "    star = 1\n",
    "    \n",
    "    while star <= i:\n",
    "        print(\"*\", end = '')\n",
    "        star += 1\n",
    "    back = i-1\n",
    "    while back >= 1:\n",
    "        print(\"*\", end= '')\n",
    "        back -= 1\n",
    "    print()\n",
    "    i += 1"
   ]
  },
  {
   "cell_type": "code",
   "execution_count": 10,
   "metadata": {},
   "outputs": [
    {
     "name": "stdout",
     "output_type": "stream",
     "text": [
      "4\n",
      "   1\n",
      "  121\n",
      " 12322\n",
      "1234333\n"
     ]
    }
   ],
   "source": [
    "## Read input as specified in the question.\n",
    "## Print output as specified in the question.\n",
    "n = int(input())\n",
    "i = 1\n",
    "while i<=n:\n",
    "    spaces = 1\n",
    "    while spaces <=n-i:\n",
    "        print(\" \", end = '')\n",
    "        spaces += 1\n",
    "    num = 1\n",
    "    p = 1\n",
    "    while p <= i:\n",
    "        print(, end = '')\n",
    "        p += 1\n",
    "        num += 1\n",
    "    blank = i -1\n",
    "    while blank >= 1:\n",
    "        print(i-1, end = '')\n",
    "        blank -= 1\n",
    "    print()\n",
    "    i += 1\n",
    "    "
   ]
  },
  {
   "cell_type": "code",
   "execution_count": 13,
   "metadata": {},
   "outputs": [
    {
     "name": "stdout",
     "output_type": "stream",
     "text": [
      "4\n",
      "   1\n",
      "  121\n",
      " 12321\n",
      "1234321\n"
     ]
    }
   ],
   "source": [
    "## Read input as specified in the question.\n",
    "## Print output as specified in the question.\n",
    "n = int(input())\n",
    "i = 1\n",
    "while i<=n:\n",
    "    spaces = 1\n",
    "    while spaces <=n-i:\n",
    "        print(\" \", end = '')\n",
    "        spaces += 1\n",
    "    num = 1\n",
    "    p = 1\n",
    "    while p <= i:\n",
    "        print(num, end = '')\n",
    "        p += 1\n",
    "        num += 1\n",
    "    blank = i -1\n",
    "    while blank >= 1:\n",
    "        print(blank, end = '')\n",
    "        blank -= 1\n",
    "    print()\n",
    "    i += 1\n",
    "    "
   ]
  },
  {
   "cell_type": "code",
   "execution_count": null,
   "metadata": {},
   "outputs": [],
   "source": []
  }
 ],
 "metadata": {
  "kernelspec": {
   "display_name": "Python 3",
   "language": "python",
   "name": "python3"
  },
  "language_info": {
   "codemirror_mode": {
    "name": "ipython",
    "version": 3
   },
   "file_extension": ".py",
   "mimetype": "text/x-python",
   "name": "python",
   "nbconvert_exporter": "python",
   "pygments_lexer": "ipython3",
   "version": "3.7.3"
  }
 },
 "nbformat": 4,
 "nbformat_minor": 2
}
