{
 "cells": [
  {
   "cell_type": "markdown",
   "metadata": {},
   "source": [
    "# Pass Statement"
   ]
  },
  {
   "cell_type": "code",
   "execution_count": 1,
   "metadata": {},
   "outputs": [
    {
     "name": "stdout",
     "output_type": "stream",
     "text": [
      "5\n",
      "12345\n",
      " 2345\n",
      "  345\n",
      "   45\n",
      "    5\n",
      "   45\n",
      "  345\n",
      " 2345\n",
      "12345\n"
     ]
    }
   ],
   "source": [
    "## Read input as specified in the question.\n",
    "## Print output as specified in the question.\n",
    "n=int(input())\n",
    "i=1\n",
    "while i<=2*n-1:\n",
    "    if i<=n:\n",
    "        j=1\n",
    "        while j<=n:\n",
    "            space=i-1\n",
    "            while space>0:\n",
    "                print(' ',end='')\n",
    "                space-=1\n",
    "                j+=1\n",
    "            start=i\n",
    "            while start<=n:\n",
    "                print(start,end='')\n",
    "                start+=1\n",
    "                j+=1\n",
    "    else:\n",
    "        j=1\n",
    "        while j<=n:\n",
    "            space=2*n-i-1\n",
    "            while space>0:\n",
    "                print(' ',end='')\n",
    "                space-=1\n",
    "                j+=1\n",
    "            start=2*n-i\n",
    "            while start<=n:\n",
    "                print(start,end='')\n",
    "                start+=1\n",
    "                j+=1\n",
    "    print()\n",
    "    i+=1"
   ]
  },
  {
   "cell_type": "code",
   "execution_count": 4,
   "metadata": {},
   "outputs": [
    {
     "name": "stdout",
     "output_type": "stream",
     "text": [
      "5\n",
      "11111\n",
      "0000\n",
      "111\n",
      "00\n",
      "1\n"
     ]
    }
   ],
   "source": [
    "## Read input as specified in the question.\n",
    "## Print output as specified in the question.\n",
    "n = int(input())\n",
    "\n",
    "for i in range(1, n+1 , 1):\n",
    "    for j in range(1, n-i+2, 1):\n",
    "        if i%2 == 1:\n",
    "            print(1, end = '')\n",
    "        else:\n",
    "            print(0, end = '')            \n",
    "            \n",
    "    print()\n"
   ]
  },
  {
   "cell_type": "code",
   "execution_count": 6,
   "metadata": {},
   "outputs": [
    {
     "name": "stdout",
     "output_type": "stream",
     "text": [
      "4\n",
      "1111\n",
      "000\n",
      "11\n",
      "0\n"
     ]
    }
   ],
   "source": [
    "n = int(input())\n",
    "for i in range(1,n+1):\n",
    "    for j in range(1, n-i+2):\n",
    "        if i % 2 == 1:\n",
    "            print(1, end='')\n",
    "        else:\n",
    "            print(0, end= '')\n",
    "    print()"
   ]
  },
  {
   "cell_type": "code",
   "execution_count": null,
   "metadata": {},
   "outputs": [],
   "source": []
  }
 ],
 "metadata": {
  "kernelspec": {
   "display_name": "Python 3",
   "language": "python",
   "name": "python3"
  },
  "language_info": {
   "codemirror_mode": {
    "name": "ipython",
    "version": 3
   },
   "file_extension": ".py",
   "mimetype": "text/x-python",
   "name": "python",
   "nbconvert_exporter": "python",
   "pygments_lexer": "ipython3",
   "version": "3.7.3"
  }
 },
 "nbformat": 4,
 "nbformat_minor": 2
}
